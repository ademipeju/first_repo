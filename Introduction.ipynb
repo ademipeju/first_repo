{
 "cells": [
  {
   "cell_type": "markdown",
   "id": "ac96ac43-f77a-48d9-a2b7-8bed425a1048",
   "metadata": {},
   "source": [
    "# Introduction\n",
    "I started by creating a repository on github, after which I clone it on git. after clonning, I opened my jupyter notebook,\n",
    "I went straight to the desktop where I saved the cloned file. \n",
    "\n",
    "## How to use markdown\n",
    "Markdown is used by going to the \"code Icon\" on the jupyter lab and change it to markdown.\n",
    "the row of markdown is to be able to type and discuss your work"
   ]
  },
  {
   "cell_type": "code",
   "execution_count": 1,
   "id": "e9a76d4f-80ec-4361-b584-317de75b48f5",
   "metadata": {},
   "outputs": [
    {
     "name": "stdout",
     "output_type": "stream",
     "text": [
      "Hello, World\n"
     ]
    }
   ],
   "source": [
    "print(\"Hello, World\")"
   ]
  },
  {
   "cell_type": "code",
   "execution_count": 2,
   "id": "91195489-e394-4236-98df-4aa713c53a71",
   "metadata": {},
   "outputs": [
    {
     "name": "stdout",
     "output_type": "stream",
     "text": [
      "My name is Enoch\n"
     ]
    }
   ],
   "source": [
    "print(\"My name is Enoch\")"
   ]
  },
  {
   "cell_type": "code",
   "execution_count": 3,
   "id": "0a94ec9a-18f0-4748-8ad3-948603f4b2ac",
   "metadata": {},
   "outputs": [
    {
     "name": "stdout",
     "output_type": "stream",
     "text": [
      "I am Esther\n"
     ]
    }
   ],
   "source": [
    "print(\"I am Esther\")"
   ]
  },
  {
   "cell_type": "code",
   "execution_count": null,
   "id": "07575af8-4f78-4763-82d9-ecf2da6fdb24",
   "metadata": {},
   "outputs": [],
   "source": []
  }
 ],
 "metadata": {
  "kernelspec": {
   "display_name": "Python 3 (ipykernel)",
   "language": "python",
   "name": "python3"
  },
  "language_info": {
   "codemirror_mode": {
    "name": "ipython",
    "version": 3
   },
   "file_extension": ".py",
   "mimetype": "text/x-python",
   "name": "python",
   "nbconvert_exporter": "python",
   "pygments_lexer": "ipython3",
   "version": "3.11.7"
  }
 },
 "nbformat": 4,
 "nbformat_minor": 5
}
